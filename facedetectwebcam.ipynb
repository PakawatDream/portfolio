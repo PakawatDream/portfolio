{
 "cells": [
  {
   "cell_type": "code",
   "execution_count": null,
   "id": "fc0eb2eb",
   "metadata": {},
   "outputs": [],
   "source": [
    "import cv2\n",
    "\n",
    "def run_webcam(image):\n",
    "        cv2.imshow('Webcam',image)\n",
    "        cv2.waitKey(1)\n",
    "        value = cv2.getWindowProperty('Webcam',cv2.WND_PROP_VISIBLE)\n",
    "        if value < 1 :\n",
    "            return False\n",
    "        return True\n",
    "\n",
    "def face_detect(cascade,image):\n",
    "    gray = cv2.cvtColor(image,cv2.COLOR_BGR2GRAY)\n",
    "    faces = cascade.detectMultiScale(gray)\n",
    "    for face in faces:\n",
    "        left,top,widge,high = face\n",
    "        cv2.rectangle(image,(left,top),(left+widge,top+high),(0,255,0))\n",
    "    return image\n",
    "\n",
    "def main():\n",
    "    condition = True\n",
    "    cascade = cv2.CascadeClassifier('haarcascade_frontalface_default.xml')\n",
    "    webcam = cv2.VideoCapture(0)\n",
    "    while condition:\n",
    "\n",
    "        success,image = webcam.read()\n",
    "        image = face_detect(cascade,image)\n",
    "        condition =  run_webcam(image)\n",
    "    webcam.release()\n",
    "main()"
   ]
  },
  {
   "cell_type": "code",
   "execution_count": null,
   "id": "4460b95e",
   "metadata": {},
   "outputs": [],
   "source": []
  },
  {
   "cell_type": "code",
   "execution_count": null,
   "id": "76e12720",
   "metadata": {},
   "outputs": [],
   "source": []
  }
 ],
 "metadata": {
  "kernelspec": {
   "display_name": "Python 3 (ipykernel)",
   "language": "python",
   "name": "python3"
  },
  "language_info": {
   "codemirror_mode": {
    "name": "ipython",
    "version": 3
   },
   "file_extension": ".py",
   "mimetype": "text/x-python",
   "name": "python",
   "nbconvert_exporter": "python",
   "pygments_lexer": "ipython3",
   "version": "3.9.7"
  }
 },
 "nbformat": 4,
 "nbformat_minor": 5
}
